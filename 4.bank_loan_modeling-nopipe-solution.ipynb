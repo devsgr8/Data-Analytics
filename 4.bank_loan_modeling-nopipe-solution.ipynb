{
 "cells": [
  {
   "cell_type": "code",
   "execution_count": null,
   "metadata": {},
   "outputs": [],
   "source": [
    "# Last amended: 23th Sep, 2022\n",
    "# My folder: /home/ashok/Documents/spark/2.ml/1.demo\n",
    "##   Objectives:\n",
    "##  \t\ti)  Usage of StringIndexer, OneHotEncoder\n",
    "##              and VectorAssembler\n",
    "##          ii) Data Transformations\n",
    "##         iii) Modeling\n",
    "##\n",
    "\n"
   ]
  },
  {
   "cell_type": "markdown",
   "metadata": {},
   "source": [
    "Broad Steps\n",
    "1. Transform categorical data to integers (indices) using StringIndexer\n",
    "2. Transform indicies to OHE form\n",
    "3. Transform target seprately to integers (indices) using StrinIndexer\n",
    "4. Collect all numeric and OHE features in one place using VectorAssembler\n",
    "5. Perform modeling"
   ]
  },
  {
   "cell_type": "markdown",
   "metadata": {},
   "source": [
    "Small steps\n",
    "1. Transform categorical data to integers (indices) using StringIndexer\n",
    "> i) Create a list of categorical features<br>\n",
    ">ii) Create a StringIndexer object<br>\n",
    ">iii)Fit and transform using this object <br>\n",
    "\n",
    "2. Transform indices to OHE form<br>\n",
    ">i) Instantiate  an OHE object<br>\n",
    ">ii)Fit and transform indices createdas a result of 1(iii) above<br>"
   ]
  },
  {
   "cell_type": "markdown",
   "metadata": {},
   "source": [
    "### Transfer files to hadoop\n",
    "Start hadoop and issue the following three commands"
   ]
  },
  {
   "cell_type": "code",
   "execution_count": null,
   "metadata": {},
   "outputs": [],
   "source": [
    "# 0.0 Transfer bplm.csv.gz to hadoop and check, as:\n",
    "\n",
    "\n",
    "! hdfs dfs -rm hdfs://localhost:9000/user/ashok/bplm.csv.gz\n",
    "! hdfs dfs -put /cdata/misc_datasets/bank_loan_modeling/bplm.csv.gz  hdfs://localhost:9000/user/ashok\n",
    "! hdfs dfs -ls hdfs://localhost:9000/user/ashok   "
   ]
  },
  {
   "cell_type": "markdown",
   "metadata": {},
   "source": [
    "### Call libraries"
   ]
  },
  {
   "cell_type": "code",
   "execution_count": null,
   "metadata": {},
   "outputs": [],
   "source": [
    "## 1.0 Call libraries\n",
    "# 1.1   For transforming categorical data to integer and to dummy\n",
    "#       And for collecting all features at one place\n",
    "\n",
    "\n",
    "from pyspark.ml.feature import  StringIndexer, OneHotEncoder ,VectorAssembler"
   ]
  },
  {
   "cell_type": "code",
   "execution_count": null,
   "metadata": {},
   "outputs": [],
   "source": [
    "# 1.2 Logistic Regression modeling:\n",
    "\n",
    "\n",
    "from pyspark.ml.classification import LogisticRegression"
   ]
  },
  {
   "cell_type": "code",
   "execution_count": null,
   "metadata": {},
   "outputs": [],
   "source": [
    "# 1.3 For evaluating results:\n",
    "\n",
    "\n",
    "from pyspark.ml.evaluation import BinaryClassificationEvaluator"
   ]
  },
  {
   "cell_type": "code",
   "execution_count": null,
   "metadata": {},
   "outputs": [],
   "source": [
    "# 1.4\n",
    "from IPython.core.interactiveshell import InteractiveShell\n",
    "InteractiveShell.ast_node_interactivity = \"all\""
   ]
  },
  {
   "cell_type": "markdown",
   "metadata": {},
   "source": [
    "## Read Data"
   ]
  },
  {
   "cell_type": "code",
   "execution_count": null,
   "metadata": {},
   "outputs": [],
   "source": [
    "# 2.0 Read bank data:\n",
    "\n",
    "df  =   spark.read.csv(\n",
    "                       path = \"hdfs://localhost:9000/user/ashok/bplm.csv.gz\",\n",
    "                       header = True,\n",
    "                       inferSchema = True\n",
    "                      )\n"
   ]
  },
  {
   "cell_type": "code",
   "execution_count": null,
   "metadata": {},
   "outputs": [],
   "source": [
    "# 2.1 Display df data, few at a time: \n",
    "\n",
    "df.select(df.columns[:10]).show(5)\n",
    "df.select(df.columns[10:]).show(5)"
   ]
  },
  {
   "cell_type": "code",
   "execution_count": null,
   "metadata": {},
   "outputs": [],
   "source": [
    "# 2.1.1 Get data types:\n",
    "\n",
    "df.dtypes"
   ]
  },
  {
   "cell_type": "code",
   "execution_count": null,
   "metadata": {},
   "outputs": [],
   "source": [
    "# 2.2 Write here: \n",
    "#            a) list of cat columns\n",
    "#            b) list of index_col names; cat_cols => index_cols\n",
    "#            c) List of ohe Col names\n",
    "#        and d) numeric columns\n",
    "\n",
    "\n",
    "cat_cols    = ['education', 'mortgage', 'personal_loan', 'securitiesaccount']\n",
    "index_cols  = ['e11','m11', 'p11', 's11']\n",
    "ohe_cols    = ['e11vec', 'm11vec', 'p11vec', 's11vec']\n",
    "num_cols    = ['age', 'experience', 'income', 'family', 'cc_avg']"
   ]
  },
  {
   "cell_type": "markdown",
   "metadata": {},
   "source": [
    "### StringIndex cat columns\n",
    "StringIndex cat_cols"
   ]
  },
  {
   "cell_type": "code",
   "execution_count": null,
   "metadata": {},
   "outputs": [],
   "source": [
    "# 2.3  Integer index string columns:\n",
    "# 2.3.1 Instantiate StringIndex class:\n",
    "\n",
    "si = StringIndexer(\n",
    "                    inputCols = cat_cols,\n",
    "                    outputCols = index_cols\n",
    "                  )"
   ]
  },
  {
   "cell_type": "code",
   "execution_count": null,
   "metadata": {},
   "outputs": [],
   "source": [
    "# 2.3.2 Train/fit StringIndexer object:\n",
    "\n",
    "model = si.fit(df)"
   ]
  },
  {
   "cell_type": "code",
   "execution_count": null,
   "metadata": {},
   "outputs": [],
   "source": [
    "# 2.3.3 Transform data and observe:\n",
    "\n",
    "\n",
    "df = model.transform(df)"
   ]
  },
  {
   "cell_type": "markdown",
   "metadata": {},
   "source": [
    "### OneHotEncode"
   ]
  },
  {
   "cell_type": "code",
   "execution_count": null,
   "metadata": {},
   "outputs": [],
   "source": [
    "# 3.0 One hot encoding of string indexed columns:\n",
    "#     Instantiate OneHotEncoder class\n",
    "\n",
    "\n",
    "ohe =    OneHotEncoder(\n",
    "                       inputCols = index_cols,\n",
    "                       outputCols =  ['e11vec','m11vec', 'p11vec', 's11vec']\n",
    "                       )\n"
   ]
  },
  {
   "cell_type": "code",
   "execution_count": null,
   "metadata": {},
   "outputs": [],
   "source": [
    "# 3.1 Fit the data to get ohe_model:\n",
    "\n",
    "model_ohe = ohe.fit(df)\n",
    "\n"
   ]
  },
  {
   "cell_type": "code",
   "execution_count": null,
   "metadata": {},
   "outputs": [],
   "source": [
    "# 3.2 Transform the data using ohe_model:\n",
    "\n",
    "df = model_ohe.transform(df)\n"
   ]
  },
  {
   "cell_type": "markdown",
   "metadata": {},
   "source": [
    "### StringIndex target"
   ]
  },
  {
   "cell_type": "code",
   "execution_count": null,
   "metadata": {},
   "outputs": [],
   "source": [
    "# 4.0 Indexing target separately\n",
    "#     Generally it is customary to name\n",
    "#     target as 'label':\n",
    "#     Instantiate StringIndexer\n",
    "\n",
    "\n",
    "si_t = StringIndexer(\n",
    "                      inputCol = 'creditcard',\n",
    "                      outputCol = 'label'\n",
    "                    )"
   ]
  },
  {
   "cell_type": "code",
   "execution_count": null,
   "metadata": {},
   "outputs": [],
   "source": [
    "# 4.1: Fit StringIndexer object on target\n",
    "\n",
    "\n",
    "model_label = si_t.fit(df)\n",
    "\n"
   ]
  },
  {
   "cell_type": "code",
   "execution_count": null,
   "metadata": {},
   "outputs": [],
   "source": [
    "# 4.2 Transform target:\n",
    "\n",
    "df = model_label.transform(df)"
   ]
  },
  {
   "cell_type": "markdown",
   "metadata": {},
   "source": [
    "### VectorAssembling"
   ]
  },
  {
   "cell_type": "code",
   "execution_count": null,
   "metadata": {},
   "outputs": [],
   "source": [
    "# 5.0 Vector Assemble all predictors and transformed features\n",
    "\n",
    "vc = VectorAssembler(\n",
    "                    inputCols =  ohe_cols+num_cols,\n",
    "                    outputCol = 'features'\n",
    "                    )"
   ]
  },
  {
   "cell_type": "code",
   "execution_count": null,
   "metadata": {},
   "outputs": [],
   "source": [
    "# 5.1 Transform df using VectorIndexer object:\n",
    "\n",
    "df = vc.transform(df)"
   ]
  },
  {
   "cell_type": "code",
   "execution_count": null,
   "metadata": {},
   "outputs": [],
   "source": [
    "# 5.3.1 Show some columns and rows:\n",
    "\n",
    "df.show(3)"
   ]
  },
  {
   "cell_type": "markdown",
   "metadata": {},
   "source": [
    "### Modeling\n",
    "Develop logisticRegression model"
   ]
  },
  {
   "cell_type": "code",
   "execution_count": null,
   "metadata": {},
   "outputs": [],
   "source": [
    "# 6.0 Instantiate Logistic Regression Class\n",
    "\n",
    "lr = LogisticRegression()\n"
   ]
  },
  {
   "cell_type": "code",
   "execution_count": null,
   "metadata": {},
   "outputs": [],
   "source": [
    "# 6.1 Train/fit Logistic class\n",
    "\n",
    "model_lr = lr.fit(df)"
   ]
  },
  {
   "cell_type": "markdown",
   "metadata": {},
   "source": [
    "### Predictions and evaluations"
   ]
  },
  {
   "cell_type": "code",
   "execution_count": null,
   "metadata": {},
   "outputs": [],
   "source": [
    "# 7.0 Make predictions on df \n",
    "#     itself using transform() method\n",
    "#     (There is no predict() method)\n",
    "\n",
    "df = model_lr.transform(df)\n"
   ]
  },
  {
   "cell_type": "code",
   "execution_count": null,
   "metadata": {},
   "outputs": [],
   "source": [
    "# 7.1 See prediction dataframe columns\n",
    "\n",
    "df.show(3)\n",
    "\n"
   ]
  },
  {
   "cell_type": "code",
   "execution_count": null,
   "metadata": {},
   "outputs": [],
   "source": [
    "# 8.  We can make use of the BinaryClassificationEvaluator method to\n",
    "#     evaluate our model.\n",
    "#     The Evaluator expects two input columns: (rawPrediction, label)\n",
    "#     and a value of 'metricName'\n",
    "#     By default -label- parameter has value 'label', 'metricName'\n",
    "#     has value of \"areaUnderROC\"\n",
    "\n",
    "# 8.1 Instantiate evaluate class\n",
    "\n",
    "bc = BinaryClassificationEvaluator()\n",
    "\n",
    "# 8.2 Evaluate to retun AUC\n",
    "\n",
    "bc.evaluate(df)\n",
    "\n"
   ]
  }
 ],
 "metadata": {
  "kernelspec": {
   "display_name": "Python 3 (ipykernel)",
   "language": "python",
   "name": "python3"
  },
  "language_info": {
   "codemirror_mode": {
    "name": "ipython",
    "version": 3
   },
   "file_extension": ".py",
   "mimetype": "text/x-python",
   "name": "python",
   "nbconvert_exporter": "python",
   "pygments_lexer": "ipython3",
   "version": "3.9.12"
  }
 },
 "nbformat": 4,
 "nbformat_minor": 2
}
